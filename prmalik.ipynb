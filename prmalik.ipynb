{
 "cells": [
  {
   "cell_type": "code",
   "execution_count": 10,
   "metadata": {},
   "outputs": [
    {
     "data": {
      "text/plain": [
       "[*1*0, *0*1]"
      ]
     },
     "execution_count": 10,
     "metadata": {},
     "output_type": "execute_result"
    }
   ],
   "source": [
    "# f (a, b, c, d) = a’bc’d’ + abc’d’ + a’bc’d + a’bcd’ + abcd’ + a’b’c’d + a’b’cd + a’bc’d + a’bcd + ab’c’d + ab’cd\n",
    "from Kmap import Minterms\n",
    "from utils import Term\n",
    "\n",
    "str_terms = ['0100' , '1100' , '0101' , '0110' , '1110' , '0001' , '0011' , '0101' , '0111' , '1001' , '1011']\n",
    "# str_terms = ['0110', '1000', '1001', '1010', '1011', '1100', '1101', '1110']\n",
    "t_minterms = []\n",
    "for term in str_terms:\n",
    "    t_minterms.append(Term(term))\n",
    "minterms = Minterms(t_minterms)\n",
    "minterms.simplify()\n",
    "minterms.result"
   ]
  },
  {
   "cell_type": "code",
   "execution_count": 8,
   "metadata": {},
   "outputs": [
    {
     "name": "stdout",
     "output_type": "stream",
     "text": [
      "[**10, *0*0]\n"
     ]
    }
   ],
   "source": [
    "#!/usr/bin/env python3\n",
    "# -*- coding: utf-8 -*-\n",
    "\n",
    "from Kmap import Minterms\n",
    "from utils import Term\n",
    "\n",
    "str_terms = [\"0010\", \"0000\", \"0110\", \"1000\"]\n",
    "terms_not_care = [\"1010\", \"1011\", \"1100\", \"1101\", \"1110\", \"1111\"]\n",
    "t_minterms = [Term(term) for term in str_terms]\n",
    "not_cares = [Term(term) for term in terms_not_care]\n",
    "\n",
    "minterms = Minterms(t_minterms, not_cares=not_cares)\n",
    "minterms.simplify()\n",
    "print(minterms.result)"
   ]
  }
 ],
 "metadata": {
  "kernelspec": {
   "display_name": "Python 3",
   "language": "python",
   "name": "python3"
  },
  "language_info": {
   "codemirror_mode": {
    "name": "ipython",
    "version": 3
   },
   "file_extension": ".py",
   "mimetype": "text/x-python",
   "name": "python",
   "nbconvert_exporter": "python",
   "pygments_lexer": "ipython3",
   "version": "3.7.4"
  }
 },
 "nbformat": 4,
 "nbformat_minor": 2
}
